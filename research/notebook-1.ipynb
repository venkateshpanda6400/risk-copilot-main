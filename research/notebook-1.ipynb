{
 "cells": [
  {
   "cell_type": "code",
   "execution_count": 1,
   "metadata": {},
   "outputs": [],
   "source": [
    "import pytesseract\n",
    "from pdf2image import convert_from_path\n",
    "import tempfile"
   ]
  },
  {
   "cell_type": "code",
   "execution_count": 2,
   "metadata": {},
   "outputs": [],
   "source": []
  },
  {
   "cell_type": "code",
   "execution_count": 3,
   "metadata": {},
   "outputs": [],
   "source": [
    "extracted_text = \"\"\n",
    "for i, image in enumerate(images):\n",
    "    # Use Tesseract to extract text from each image\n",
    "    text = pytesseract.image_to_string(image)\n",
    "    extracted_text += f\"Page {i+1}:\\n{text}\\n\\n\""
   ]
  },
  {
   "cell_type": "code",
   "execution_count": 6,
   "metadata": {},
   "outputs": [
    {
     "name": "stdout",
     "output_type": "stream",
     "text": [
      "Text has been written to the file.\n"
     ]
    }
   ],
   "source": [
    "# Open the file in write mode\n",
    "with open(\"demo_prasad.txt\", \"w\") as file:\n",
    "    # Write text to the file\n",
    "    file.write(extracted_text)\n",
    "\n",
    "\n",
    "print(\"Text has been written to the file.\")"
   ]
  },
  {
   "cell_type": "code",
   "execution_count": 5,
   "metadata": {},
   "outputs": [
    {
     "name": "stdout",
     "output_type": "stream",
     "text": [
      "Page 1:\n",
      "Form - | — (See rule 22)\n",
      "\n",
      "ABSTRACTS OF THE MINIMUM WAGES ACT 1948, AND THE RULES MADE\n",
      "THEREUNDER\n",
      "\n",
      "1. Extent and purpose : The Act provides for fixing minimum rates of wages and applies to every person\n",
      "who is employed or hire or reward to do any work skilled or unskilled, manual or clerical in an\n",
      "employment specified in the schedule and in respect of which minimum rates of wages have been fixed\n",
      "including an out-worker to whom any article or materials are given out by another person to be made\n",
      "up, cleaned, washed, altered, ornamented, finished, repaired, adapted or otherwise processed for sale\n",
      "for the purpose of trade or business of that other person where the process is to be carried out either in\n",
      "the home of the outworker or in some other premises not being premises under the control and\n",
      "management of that other person. It also applies to any other person declared to be an employee by the\n",
      "appropriate Government. It does not, however, apply in respect of the wages payable by an employer to\n",
      "a member of his family who is living with him and is dependent on him. 2. Wages : Wages means all\n",
      "remuneration payable to an employed person on the fulfillment of his contract of employment, express\n",
      "or implied, but it does not include- (a) the value of house-accommodation, supply of light, water,\n",
      "medical attendance, or any other amenity or service excluded by general or special order of the\n",
      "appropriate Government; (b) the employer’s contribution to a Pension or Provident Fund, or under any\n",
      "scheme of social insurance; (c) any traveling allowance or the value of any traveling concession or any\n",
      "sum paid to the employed person to defray special expenses entailed on him by the nature of his\n",
      "employment; (d) any gratuity payable on discharge. 3. Fixing and Revising of Minimum Rates of Wages\n",
      "under the Act: The minimum rates of wages fixed or revised under the Act shall come Into force on the\n",
      "expiry of three months from the date of the notification fixing or revising the minimum rates of wages.\n",
      "as the case may be. unless the notification otherwise provides 4. Responsibility for payment of minimum\n",
      "wages: The following persons are responsible for payment of the minimum rates of wages fixed under\n",
      "the Act to the employees employed by them namely:- The employer who employs whether directly or\n",
      "through another person or whether on behalf of himself or any other person one or more employees in\n",
      "any scheduled employment In respect of which minimum rates of wages have been fixed under the Act.\n",
      "and includes :- (a) in a factory. any person named as Manager of the factory: (b) in any scheduled\n",
      "employment under the control of any scheduled employment under the control of any Government in\n",
      "India or any local authority. the person appointed by such Government or local authority. as the case\n",
      "may be, for the supervision and control of employees or in the- absence of any such appointment the\n",
      "head of the Department or the Chief Executive Officer of the local authority; and (c) in any other case,\n",
      "any person responsible to the owner for the supervision and control of the employees or for the\n",
      "payment of wages. 5. Contracting out void .: A Contract or agreement whereby an employee\n",
      "relinquishes or reduces his right to a minimum rate of wages Or any privilege or concession accruing to\n",
      "him under the Act is null and void in so far as it purports to reduce the minimum rate of wages fixed\n",
      "under the Act. 6. The mode of payment of wages: (a) The wage period shall be fixed for the payment of\n",
      "wages at Intervals not exceeding one month. (b) Wages shall be paid before the expiry of the 7th day\n",
      "aller the last day of the wages (period in respect of which the wages are payable in any such\n",
      "employment except employment in agriculture in which an employer has employed less than one\n",
      "\n",
      "\n",
      "\n"
     ]
    }
   ],
   "source": [
    "print(extracted_text)"
   ]
  },
  {
   "cell_type": "code",
   "execution_count": 1,
   "metadata": {},
   "outputs": [],
   "source": [
    "a = \"data/raw\""
   ]
  },
  {
   "cell_type": "code",
   "execution_count": 2,
   "metadata": {},
   "outputs": [
    {
     "data": {
      "text/plain": [
       "'data/staged'"
      ]
     },
     "execution_count": 2,
     "metadata": {},
     "output_type": "execute_result"
    }
   ],
   "source": [
    "a.replace(\"raw\", \"staged\")"
   ]
  },
  {
   "cell_type": "code",
   "execution_count": 3,
   "metadata": {},
   "outputs": [],
   "source": []
  },
  {
   "cell_type": "code",
   "execution_count": null,
   "metadata": {},
   "outputs": [],
   "source": []
  }
 ],
 "metadata": {
  "kernelspec": {
   "display_name": "venv",
   "language": "python",
   "name": "python3"
  },
  "language_info": {
   "codemirror_mode": {
    "name": "ipython",
    "version": 3
   },
   "file_extension": ".py",
   "mimetype": "text/x-python",
   "name": "python",
   "nbconvert_exporter": "python",
   "pygments_lexer": "ipython3",
   "version": "3.12.3"
  }
 },
 "nbformat": 4,
 "nbformat_minor": 2
}
